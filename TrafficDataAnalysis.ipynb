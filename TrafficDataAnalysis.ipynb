{
 "cells": [
  {
   "cell_type": "code",
   "execution_count": null,
   "metadata": {},
   "outputs": [],
   "source": [
    "# Dependencies\n",
    "import requests\n",
    "import numpy as np\n",
    "import pandas as pd\n",
    "from datetime import datetime\n",
    "from datetime import timezone\n",
    "import matplotlib.pyplot as plt\n",
    "from matplotlib import style\n",
    "style.use('ggplot')\n",
    "# Import API key\n",
    "import api_keys\n",
    "from sodapy import Socrata"
   ]
  },
  {
   "cell_type": "code",
   "execution_count": null,
   "metadata": {},
   "outputs": [],
   "source": [
    "traffic_data = pd.read_csv('DataSets/TrafficData.csv')\n",
    "traffic_data.head()"
   ]
  },
  {
   "cell_type": "code",
   "execution_count": null,
   "metadata": {},
   "outputs": [],
   "source": [
    "temperature_data_url = 'http://plenar.io/v1/api/weather/daily/?wban_code=14819&date__ge=2014-07-01'\n",
    "\n",
    "response = requests.get(temperature_data_url).json()\n",
    "\n",
    "print(response[\"objects\"][0]['observations'])\n",
    "\n",
    "weather_data_frame = pd.DataFrame(response[\"objects\"][0]['observations'])\n",
    "#for index,row in filtered_taxi_data_frame.iterrows():\n",
    "#    timestamp = row['trip_end_timestamp'].replace(tzinfo=timezone.utc).timestamp()\n",
    "#   weather_api_url_format = f\"http://history.openweathermap.org/data/2.5/history/city?id=Chicago,US&type=hour&start={timestamp}&end={timestamp}&APPID=902c261024299a24bf88a314f144db66\"  \n",
    "#    print(weather_api_url_format)\n",
    "   "
   ]
  },
  {
   "cell_type": "code",
   "execution_count": null,
   "metadata": {},
   "outputs": [],
   "source": [
    "weather_data_frame"
   ]
  },
  {
   "cell_type": "code",
   "execution_count": null,
   "metadata": {},
   "outputs": [],
   "source": [
    "merged_data = pd.merge(traffic_data, weather_data_frame, left_on='day', right_on='date')\n",
    "merged_data\n"
   ]
  },
  {
   "cell_type": "code",
   "execution_count": null,
   "metadata": {},
   "outputs": [],
   "source": [
    "merged_data.plot(x='day',y='rides')\n",
    "merged_data.plot(x='day',y='temp_min')"
   ]
  },
  {
   "cell_type": "code",
   "execution_count": null,
   "metadata": {},
   "outputs": [],
   "source": []
  }
 ],
 "metadata": {
  "kernelspec": {
   "display_name": "Python 3",
   "language": "python",
   "name": "python3"
  },
  "language_info": {
   "codemirror_mode": {
    "name": "ipython",
    "version": 3
   },
   "file_extension": ".py",
   "mimetype": "text/x-python",
   "name": "python",
   "nbconvert_exporter": "python",
   "pygments_lexer": "ipython3",
   "version": "3.6.5"
  }
 },
 "nbformat": 4,
 "nbformat_minor": 2
}
